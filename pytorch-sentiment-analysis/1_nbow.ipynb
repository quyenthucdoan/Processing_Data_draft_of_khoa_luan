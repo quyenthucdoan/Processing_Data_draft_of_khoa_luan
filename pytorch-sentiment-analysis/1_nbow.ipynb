{
 "cells": [
  {
   "cell_type": "markdown",
   "id": "a36e41e8",
   "metadata": {},
   "source": [
    "# 1 - NBoW\n",
    "\n",
    "In this series we'll be building a machine learning model to perform sentiment analysis -- a subset of text classification where the task is to detect if a given sentence is positive or negative -- using [PyTorch](https://github.com/pytorch/pytorch) and [torchtext](https://github.com/pytorch/text). The dataset used will be movie reviews from the [IMDb dataset](http://ai.stanford.edu/~amaas/data/sentiment/), which we'll obtain using the [datasets](https://github.com/huggingface/datasets) library.\n",
    "\n",
    "## Introduction\n",
    "\n",
    "In this first notebook, we'll start very simple with one of the most basic models for *NLP* (natural language processing): a *NBoW* (*neural bag-of-words*) model (also known as *continuous bag-of-words*, *CBoW*). The NBoW model are a strong, commonly used, baseline model for NLP tasks. They should be one of the first models you implement when performing sentiment analysis/text classification.\n",
    "\n",
    "![](assets/nbow_model.png)\n",
    "\n",
    "An NBoW model takes in a sequence of $T$ *tokens*, $X=\\{x_1,...,x_T\\} \\in \\mathbb{Z}^T$ and passes each token through an *embedding layer* to obtain a sequence of *embedding vectors*. The sequence of embedding vectors is just known as an *embedding*, $E=\\{e_1,...,e_T\\} \\in \\mathbb{R}^{T \\times D}$, where $D$ is known as the *embedding dimension*. It then *pools* the embeddings across the sequence dimension to get $P \\in \\mathbb{R}^D$ and then finally passes $P$ through a linear layer (also known as a fully connected layer), to get a prediction, $\\hat{Y} \\in \\mathbb{R}^C$, where $C$ is the number of classes. We'll explain what a token is, and what each of the layers -- embedding layer, pooling, and linear layer -- do in due course. \n",
    "\n",
    "A note on notation, what does something like $E=\\{e_1,...,e_T\\} \\in \\mathbb{R}^{T \\times D}$ mean? $\\mathbb{R}^{T \\times D}$ means a $T \\times D$ sized tensor full of real numbers, i.e. a `torch.FloatTensor`. $X=\\{x_1,...,x_T\\} \\in \\mathbb{Z}^T$ is a $T$ sized tensor full of integers, i.e. a `torch.LongTensor`.\n",
    "\n",
    "## Preparing Data\n",
    "\n",
    "Before we can implement our NBoW model, we first have to perform quite a few steps to get our data ready to use. NLP usually requires quite a lot of data wrangling beforehand, though libraries such as `datasets` and `torchtext` handle most of this for us.\n",
    "\n",
    "The steps to take are:\n",
    "- importing modules\n",
    "- loading data\n",
    "- tokenizing data\n",
    "- creating data splits\n",
    "- creating a vocabulary\n",
    "- numericalizing data\n",
    "- creating the dataloaders\n",
    "\n",
    "### Importing Modules\n",
    "\n",
    "First, we'll import the required modules. \n",
    "\n",
    "We use the `datasets` module for handling datasets, `matplotlib` for plotting our results, `numpy` for numerical analysis, `torch` for tensor computations, `torch.nn` for neural networks, `torch.optim` for neural network optimizers, `torchtext` for text processing, and `tqdm` for process bars."
   ]
  },
  {
   "cell_type": "code",
   "execution_count": 1,
   "id": "e322bd29",
   "metadata": {},
   "outputs": [],
   "source": [
    "import functools\n",
    "import sys\n",
    "\n",
    "import datasets\n",
    "import matplotlib.pyplot as plt\n",
    "import numpy as np\n",
    "import torch\n",
    "import torch.nn as nn\n",
    "import torch.optim as optim\n",
    "import torchtext\n",
    "import tqdm"
   ]
  },
  {
   "cell_type": "markdown",
   "id": "a5478fc3",
   "metadata": {},
   "source": [
    "We'll also make sure to set the random seeds for `torch` and `numpy`. This is to ensure this notebook is reproducable, i.e. we get the same results each time we run it.\n",
    "\n",
    "It is usually good practice to run your experiments multiple times with different random seeds -- both to measure the variance of your model and also to avoid having results only calculated with either \"good\" or \"bad\" seeds, i.e. being very lucky or unlucky with the randomness in the training process."
   ]
  },
  {
   "cell_type": "code",
   "execution_count": 2,
   "id": "fcc98ce9",
   "metadata": {},
   "outputs": [],
   "source": [
    "seed = 0\n",
    "\n",
    "torch.manual_seed(seed)\n",
    "np.random.seed(seed)"
   ]
  },
  {
   "cell_type": "markdown",
   "id": "55b1eb74",
   "metadata": {},
   "source": [
    "Next, we'll load our dataset using the `datasets` library. The first argument is the name of the dataset and the `split` argument chooses which *splits* of the data we want. \n",
    "\n",
    "Datasets usually come in two or more *splits*, non-overlapping examples from the data, most commonly a *train split* -- which we train our model on -- and a *test split* -- which we evaluate our trained model on. There's also a *validation split*, which we'll talk more about later. The train, test and validation split are also commonly called the train, test and validation sets -- we'll use split and set interchangeably\n",
    " in these tutorials -- and the dataset usually refers to all three of the sets combined. The IMDb dataset actually comes with a third split, called *unsupervised*, which contains a bunch of examples without labels. We don't want these so we don't include them in our `split` argument. Note that if we didn't pass an argument to `split` then it would load all available splits of the data.\n",
    "\n",
    "How do we know that we have to use \"imdb\" for the IMDb dataset and that there's an \"unsupervised\" split? The `datasets` library has a great website used to browse the available datasets, see: https://huggingface.co/datasets/. By navigating to the [IMDb dataset page](https://huggingface.co/datasets/imdb) we can see more information specifically about the IMDb dataset.\n",
    "\n",
    "The output received when loading the dataset tells us that it is using a locally cached version instead of downloading the dataset from online."
   ]
  },
  {
   "cell_type": "code",
   "execution_count": 3,
   "id": "798f5387",
   "metadata": {},
   "outputs": [
    {
     "name": "stderr",
     "output_type": "stream",
     "text": [
      "Reusing dataset imdb (C:\\Users\\quyen\\.cache\\huggingface\\datasets\\imdb\\plain_text\\1.0.0\\2fdd8b9bcadd6e7055e742a706876ba43f19faee861df134affd7a3f60fc38a1)\n",
      "100%|██████████| 2/2 [00:00<00:00, 10.85it/s]\n"
     ]
    }
   ],
   "source": [
    "train_data, test_data = datasets.load_dataset(\"imdb\", split=[\"train\", \"test\"])"
   ]
  },
  {
   "cell_type": "markdown",
   "id": "93721296",
   "metadata": {},
   "source": [
    "We can print out the splits which shows us the *features* and *num_rows* of the dataset. num_rows are the number of examples in split, as we can see, there are 25,000 examples in each. Each example in a dataset provided by the `datasets` library is a dictionary, and the features are the keys which appear in every one of those dictionaries/examples. So, each example in the IMDb dataset has a *text* and a *label* key."
   ]
  },
  {
   "cell_type": "code",
   "execution_count": 4,
   "id": "42338609",
   "metadata": {},
   "outputs": [
    {
     "data": {
      "text/plain": [
       "(Dataset({\n",
       "     features: ['text', 'label'],\n",
       "     num_rows: 25000\n",
       " }),\n",
       " Dataset({\n",
       "     features: ['text', 'label'],\n",
       "     num_rows: 25000\n",
       " }))"
      ]
     },
     "execution_count": 4,
     "metadata": {},
     "output_type": "execute_result"
    }
   ],
   "source": [
    "train_data, test_data"
   ]
  },
  {
   "cell_type": "code",
   "execution_count": 11,
   "id": "493ab48d",
   "metadata": {},
   "outputs": [
    {
     "data": {
      "text/plain": [
       "{'text': 'I rented I AM CURIOUS-YELLOW from my video store because of all the controversy that surrounded it when it was first released in 1967. I also heard that at first it was seized by U.S. customs if it ever tried to enter this country, therefore being a fan of films considered \"controversial\" I really had to see this for myself.<br /><br />The plot is centered around a young Swedish drama student named Lena who wants to learn everything she can about life. In particular she wants to focus her attentions to making some sort of documentary on what the average Swede thought about certain political issues such as the Vietnam War and race issues in the United States. In between asking politicians and ordinary denizens of Stockholm about their opinions on politics, she has sex with her drama teacher, classmates, and married men.<br /><br />What kills me about I AM CURIOUS-YELLOW is that 40 years ago, this was considered pornographic. Really, the sex and nudity scenes are few and far between, even then it\\'s not shot like some cheaply made porno. While my countrymen mind find it shocking, in reality sex and nudity are a major staple in Swedish cinema. Even Ingmar Bergman, arguably their answer to good old boy John Ford, had sex scenes in his films.<br /><br />I do commend the filmmakers for the fact that any sex shown in the film is shown for artistic purposes rather than just to shock people and make money to be shown in pornographic theaters in America. I AM CURIOUS-YELLOW is a good film for anyone wanting to study the meat and potatoes (no pun intended) of Swedish cinema. But really, this film doesn\\'t have much of a plot.',\n",
       " 'label': 0}"
      ]
     },
     "execution_count": 11,
     "metadata": {},
     "output_type": "execute_result"
    }
   ],
   "source": [
    "train_data[0]"
   ]
  },
  {
   "cell_type": "markdown",
   "id": "8ec70556",
   "metadata": {},
   "source": [
    "We can check the `features` attribute of a split to get more information about the features. We can see that *text* is a `Value` of `dtype=string` -- in other words, it's a string -- and that *label* is a `ClassLabel`. A `ClassLabel` means the feature is an integer representation of which class the example belongs to. `num_classes=2` means that our labels are one of two values, 0 or 1, and `names=['neg', 'pos']` gives us the human-readable versions of those values. Thus, a label of 0 means the example is a negative review and a label of 1 means the example is a positive review."
   ]
  },
  {
   "cell_type": "code",
   "execution_count": 7,
   "id": "58f5cc56",
   "metadata": {},
   "outputs": [
    {
     "data": {
      "text/plain": [
       "{'text': Value(dtype='string', id=None),\n",
       " 'label': ClassLabel(num_classes=2, names=['neg', 'pos'], names_file=None, id=None)}"
      ]
     },
     "execution_count": 7,
     "metadata": {},
     "output_type": "execute_result"
    }
   ],
   "source": [
    "train_data.features"
   ]
  },
  {
   "cell_type": "markdown",
   "id": "84271369",
   "metadata": {},
   "source": [
    "We can look at an example by indexing into the train set. As we can see, the text is quite noisy and also rambles on quite a bit."
   ]
  },
  {
   "cell_type": "code",
   "execution_count": 8,
   "id": "25a6e8cb",
   "metadata": {},
   "outputs": [
    {
     "data": {
      "text/plain": [
       "{'text': 'I rented I AM CURIOUS-YELLOW from my video store because of all the controversy that surrounded it when it was first released in 1967. I also heard that at first it was seized by U.S. customs if it ever tried to enter this country, therefore being a fan of films considered \"controversial\" I really had to see this for myself.<br /><br />The plot is centered around a young Swedish drama student named Lena who wants to learn everything she can about life. In particular she wants to focus her attentions to making some sort of documentary on what the average Swede thought about certain political issues such as the Vietnam War and race issues in the United States. In between asking politicians and ordinary denizens of Stockholm about their opinions on politics, she has sex with her drama teacher, classmates, and married men.<br /><br />What kills me about I AM CURIOUS-YELLOW is that 40 years ago, this was considered pornographic. Really, the sex and nudity scenes are few and far between, even then it\\'s not shot like some cheaply made porno. While my countrymen mind find it shocking, in reality sex and nudity are a major staple in Swedish cinema. Even Ingmar Bergman, arguably their answer to good old boy John Ford, had sex scenes in his films.<br /><br />I do commend the filmmakers for the fact that any sex shown in the film is shown for artistic purposes rather than just to shock people and make money to be shown in pornographic theaters in America. I AM CURIOUS-YELLOW is a good film for anyone wanting to study the meat and potatoes (no pun intended) of Swedish cinema. But really, this film doesn\\'t have much of a plot.',\n",
       " 'label': 0}"
      ]
     },
     "execution_count": 8,
     "metadata": {},
     "output_type": "execute_result"
    }
   ],
   "source": [
    "train_data[0]"
   ]
  },
  {
   "cell_type": "markdown",
   "id": "f8536207",
   "metadata": {},
   "source": [
    "One of the first things we need to do to our data is *tokenize* it. Machine learning models aren't designed to handle strings, they're design to handle numbers. So what we need to do is break down our string into individual *tokens*, and then convert these tokens to numbers. We'll get to the conversion later, but first we'll look at *tokenization*.\n",
    "\n",
    "Tokenization involves using a *tokenizer* to process the strings in our dataset. A tokenizer is a function that goes from a string to a list of strings. There are many types of tokenizers available, but we're going to use a relatively simple one provided by `torchtext` called the `basic_english` tokenizer. We load our tokenizer as such:"
   ]
  },
  {
   "cell_type": "code",
   "execution_count": 9,
   "id": "3017c0ab",
   "metadata": {},
   "outputs": [],
   "source": [
    "tokenizer = torchtext.data.utils.get_tokenizer(\"basic_english\")"
   ]
  },
  {
   "cell_type": "markdown",
   "id": "4db58859",
   "metadata": {},
   "source": [
    "We can use the tokenizer by calling it on a string.\n",
    "\n",
    "Notice it creates a token by splitting the word on spaces, puts punctuation as its own token, and also lowercases every single word.\n",
    "\n",
    "The `get_tokenizer` function also supports other tokenizers, such as ones provided by [spaCy](https://spacy.io/) and [nltk](https://www.nltk.org/). "
   ]
  },
  {
   "cell_type": "code",
   "execution_count": 10,
   "id": "2d0de969",
   "metadata": {},
   "outputs": [
    {
     "data": {
      "text/plain": [
       "['hello',\n",
       " 'world',\n",
       " '!',\n",
       " 'how',\n",
       " 'are',\n",
       " 'you',\n",
       " 'doing',\n",
       " 'today',\n",
       " '?',\n",
       " 'i',\n",
       " \"'\",\n",
       " 'm',\n",
       " 'doing',\n",
       " 'fantastic',\n",
       " '!']"
      ]
     },
     "execution_count": 10,
     "metadata": {},
     "output_type": "execute_result"
    }
   ],
   "source": [
    "tokenizer(\"Hello world! How are you doing today? I'm doing fantastic!\")"
   ]
  },
  {
   "cell_type": "markdown",
   "id": "593711b9",
   "metadata": {},
   "source": [
    "Now we have our tokenizer defined, we want to actually tokenize our data.\n",
    "\n",
    "Each dataset provided by the `datasets` library is an instance of a `Dataset` class. We can see all the methods in a `Dataset` [here](https://huggingface.co/docs/datasets/package_reference/main_classes.html#dataset), but the main one we are interested in is [`map`](https://huggingface.co/docs/datasets/package_reference/main_classes.html#datasets.Dataset.map). By using `map` we can apply a function to every example in the dataset and either update the example or create a new feature.\n",
    "\n",
    "We define the `tokenize_example` function below which takes in an `example`, a `tokenizer` and a `max_length` argument, tokenizes the text in the example, given by `example['text']`, trims the tokens to a maximum length and then returns a dictionary with the new feature name and feature value for that example. Note that the first argument to a function which we are going to `map` must always be the example dictionary, and it must always return a dictionary where the keys are the feature names and the values are the feature values to be added to this example. \n",
    "\n",
    "We're trimming the tokens to a maximum length here as some examples are unnecessarily long and we can predict sentiment pretty well just using the first couple of hundred tokens -- though this might not be true for you if you're using a different dataset!"
   ]
  },
  {
   "cell_type": "code",
   "execution_count": 12,
   "id": "876ad3b9",
   "metadata": {},
   "outputs": [],
   "source": [
    "def tokenize_example(example, tokenizer, max_length):\n",
    "    tokens = tokenizer(example['text'])[:max_length]\n",
    "    return {'tokens': tokens}"
   ]
  },
  {
   "cell_type": "markdown",
   "id": "35129a1b",
   "metadata": {},
   "source": [
    "We apply the `tokenize_example` function below, on both the train and test sets. Any arguments to the function -- that aren't the example -- need to be passed as the `fn_kwargs` dictionary, with the keys being the argument names and the values the value passed to that argument.\n",
    "\n",
    "Operations on a `Dataset` are **not** performed in-place. You should always return the result into a new variable.\n",
    "\n",
    "Note the warnings showing that as I have performed this `map` before, the results are cached and are thus loaded from the cache instead of being calculated again."
   ]
  },
  {
   "cell_type": "code",
   "execution_count": 13,
   "id": "5e295030",
   "metadata": {},
   "outputs": [
    {
     "name": "stderr",
     "output_type": "stream",
     "text": [
      "25000ex [00:06, 4166.09ex/s]\n",
      "25000ex [00:05, 4346.91ex/s]\n"
     ]
    }
   ],
   "source": [
    "max_length = 256\n",
    "\n",
    "train_data = train_data.map(tokenize_example, fn_kwargs={'tokenizer': tokenizer, 'max_length': max_length})\n",
    "test_data = test_data.map(tokenize_example, fn_kwargs={'tokenizer': tokenizer, 'max_length': max_length})"
   ]
  },
  {
   "cell_type": "markdown",
   "id": "a61b38c0",
   "metadata": {},
   "source": [
    "We can now see that our `train_data` has a *tokens* feature -- as \"tokens\" was a key in the dictionary returned by the function we used for the `map`."
   ]
  },
  {
   "cell_type": "code",
   "execution_count": 14,
   "id": "f647bdf9",
   "metadata": {},
   "outputs": [
    {
     "data": {
      "text/plain": [
       "Dataset({\n",
       "    features: ['text', 'label', 'tokens'],\n",
       "    num_rows: 25000\n",
       "})"
      ]
     },
     "execution_count": 14,
     "metadata": {},
     "output_type": "execute_result"
    }
   ],
   "source": [
    "train_data"
   ]
  },
  {
   "cell_type": "markdown",
   "id": "db3443a0",
   "metadata": {},
   "source": [
    "By looking at the `features` attribute we can see it has automatically added the information about the tokens feature -- each is a sequence (a list) of strings. A `length=-1` means that all of our token sequences are not the same length."
   ]
  },
  {
   "cell_type": "code",
   "execution_count": 15,
   "id": "1605d52b",
   "metadata": {},
   "outputs": [
    {
     "data": {
      "text/plain": [
       "{'text': Value(dtype='string', id=None),\n",
       " 'label': ClassLabel(num_classes=2, names=['neg', 'pos'], names_file=None, id=None),\n",
       " 'tokens': Sequence(feature=Value(dtype='string', id=None), length=-1, id=None)}"
      ]
     },
     "execution_count": 15,
     "metadata": {},
     "output_type": "execute_result"
    }
   ],
   "source": [
    "train_data.features"
   ]
  },
  {
   "cell_type": "markdown",
   "id": "1735d91a",
   "metadata": {},
   "source": [
    "We can check the first example in our train set to see the result of the tokenization:"
   ]
  },
  {
   "cell_type": "code",
   "execution_count": 16,
   "id": "2f3de3b9",
   "metadata": {},
   "outputs": [
    {
     "data": {
      "text/plain": [
       "['i',\n",
       " 'rented',\n",
       " 'i',\n",
       " 'am',\n",
       " 'curious-yellow',\n",
       " 'from',\n",
       " 'my',\n",
       " 'video',\n",
       " 'store',\n",
       " 'because',\n",
       " 'of',\n",
       " 'all',\n",
       " 'the',\n",
       " 'controversy',\n",
       " 'that',\n",
       " 'surrounded',\n",
       " 'it',\n",
       " 'when',\n",
       " 'it',\n",
       " 'was',\n",
       " 'first',\n",
       " 'released',\n",
       " 'in',\n",
       " '1967',\n",
       " '.']"
      ]
     },
     "execution_count": 16,
     "metadata": {},
     "output_type": "execute_result"
    }
   ],
   "source": [
    "train_data[0]['tokens'][:25]"
   ]
  },
  {
   "cell_type": "markdown",
   "id": "04d4ee14",
   "metadata": {},
   "source": [
    "Next up, we'll create a *validation set* from our data. This is similar to our test set in that we do not train our model on it, we only evaluate our model on it. \n",
    "\n",
    "Why have both a validation set and a test set? Your test set respresents the real world data that you'd see if you actually deployed this model. You won't be able to see what data your model will be fed once deployed, and your test set is supposed to reflect that. Every time we tune our model hyperparameters or training set-up to make it do a bit better on the test set, we are leak information from the test set into the training process. If we do this too often then we begin to overfit on the test set. Hence, we need some data which can act as a \"proxy\" test set which we can look at more frequently in order to evaluate how well our model actually does on unseen data -- this is the validation set.\n",
    "\n",
    "We can split a `Dataset` using the `train_test_split` method which splits a dataset into two, creating a `DatasetDict` for each split, one called `train` and another called `test` -- a bit confusing because these are our train and validation sets, not the test. We use `test_size` to set the portion of the data used for the validation set -- 0.25 means we use 25% of the training set -- and the examples are chosen randomly."
   ]
  },
  {
   "cell_type": "code",
   "execution_count": 17,
   "id": "15e48bfb",
   "metadata": {},
   "outputs": [],
   "source": [
    "test_size = 0.25\n",
    "\n",
    "train_valid_data = train_data.train_test_split(test_size=test_size)\n",
    "train_data = train_valid_data['train']\n",
    "valid_data = train_valid_data['test']"
   ]
  },
  {
   "cell_type": "markdown",
   "id": "870c829b",
   "metadata": {},
   "source": [
    "By showing the lengths of each split within our dataset, we can see the 25,000 training examples have now been split into 18,750 training examples and 6,250 validation examples, with the original 25,000 test examples remaining untouched."
   ]
  },
  {
   "cell_type": "code",
   "execution_count": 18,
   "id": "c227e4fc",
   "metadata": {},
   "outputs": [
    {
     "data": {
      "text/plain": [
       "(18750, 6250, 25000)"
      ]
     },
     "execution_count": 18,
     "metadata": {},
     "output_type": "execute_result"
    }
   ],
   "source": [
    "len(train_data), len(valid_data), len(test_data)"
   ]
  },
  {
   "cell_type": "code",
   "execution_count": 19,
   "id": "4865e94a",
   "metadata": {},
   "outputs": [],
   "source": [
    "min_freq = 5\n",
    "special_tokens = ['<unk>', '<pad>']\n",
    "\n",
    "vocab = torchtext.vocab.build_vocab_from_iterator(train_data['tokens'],\n",
    "                                                  min_freq=min_freq,\n",
    "                                                  specials=special_tokens)"
   ]
  },
  {
   "cell_type": "code",
   "execution_count": 20,
   "id": "123ceb33",
   "metadata": {},
   "outputs": [
    {
     "data": {
      "text/plain": [
       "21627"
      ]
     },
     "execution_count": 20,
     "metadata": {},
     "output_type": "execute_result"
    }
   ],
   "source": [
    "len(vocab)"
   ]
  },
  {
   "cell_type": "code",
   "execution_count": 21,
   "id": "d4ec89de",
   "metadata": {},
   "outputs": [
    {
     "data": {
      "text/plain": [
       "['<unk>', '<pad>', 'the', '.', ',', 'a', 'and', 'of', 'to', \"'\"]"
      ]
     },
     "execution_count": 21,
     "metadata": {},
     "output_type": "execute_result"
    }
   ],
   "source": [
    "vocab.get_itos()[:10]"
   ]
  },
  {
   "cell_type": "code",
   "execution_count": 22,
   "id": "29ac49c8",
   "metadata": {},
   "outputs": [
    {
     "data": {
      "text/plain": [
       "0"
      ]
     },
     "execution_count": 22,
     "metadata": {},
     "output_type": "execute_result"
    }
   ],
   "source": [
    "unk_index = vocab['<unk>']\n",
    "\n",
    "unk_index"
   ]
  },
  {
   "cell_type": "code",
   "execution_count": 23,
   "id": "447020e1",
   "metadata": {},
   "outputs": [
    {
     "data": {
      "text/plain": [
       "1"
      ]
     },
     "execution_count": 23,
     "metadata": {},
     "output_type": "execute_result"
    }
   ],
   "source": [
    "pad_index = vocab['<pad>']\n",
    "\n",
    "pad_index"
   ]
  },
  {
   "cell_type": "code",
   "execution_count": 24,
   "id": "201b5383",
   "metadata": {},
   "outputs": [
    {
     "data": {
      "text/plain": [
       "False"
      ]
     },
     "execution_count": 24,
     "metadata": {},
     "output_type": "execute_result"
    }
   ],
   "source": [
    "'some_token' in vocab"
   ]
  },
  {
   "cell_type": "code",
   "execution_count": 25,
   "id": "7a951ea0",
   "metadata": {},
   "outputs": [],
   "source": [
    "vocab.set_default_index(unk_index)"
   ]
  },
  {
   "cell_type": "code",
   "execution_count": 26,
   "id": "407fe05d",
   "metadata": {},
   "outputs": [
    {
     "data": {
      "text/plain": [
       "0"
      ]
     },
     "execution_count": 26,
     "metadata": {},
     "output_type": "execute_result"
    }
   ],
   "source": [
    "vocab['some_token']"
   ]
  },
  {
   "cell_type": "code",
   "execution_count": 27,
   "id": "76518d11",
   "metadata": {},
   "outputs": [],
   "source": [
    "def numericalize_data(example, vocab):\n",
    "    ids = [vocab[token] for token in example['tokens']]\n",
    "    return {'ids': ids}"
   ]
  },
  {
   "cell_type": "code",
   "execution_count": 28,
   "id": "dacaeaef",
   "metadata": {},
   "outputs": [
    {
     "name": "stderr",
     "output_type": "stream",
     "text": [
      "18750ex [00:09, 1885.71ex/s]\n",
      "6250ex [00:03, 1919.69ex/s]\n",
      "25000ex [00:12, 2014.93ex/s]\n"
     ]
    }
   ],
   "source": [
    "train_data = train_data.map(numericalize_data, fn_kwargs={'vocab': vocab})\n",
    "valid_data = valid_data.map(numericalize_data, fn_kwargs={'vocab': vocab})\n",
    "test_data = test_data.map(numericalize_data, fn_kwargs={'vocab': vocab})"
   ]
  },
  {
   "cell_type": "code",
   "execution_count": 29,
   "id": "08751c45",
   "metadata": {},
   "outputs": [
    {
     "data": {
      "text/plain": [
       "{'text': 'Ya know when one looks at this Brian DePalma film today, I\\'m sure there has been allot of criticism about how dated it is. Also, about the violence. When I looked at this film on VHS when I was 20, I thought it was ulta-violent and gritty as well. But I didn\\'t get \\'it\\'.<br /><br />A few decades go by and man, how I know how much I didn\\'t get in this film!! This is a remake of an excellent film which was done back in the 30\\'s/40\\'s. How can you improve upon a classic? Ya don\\'t. But you tell a tale that is brought up to date through the eyes of the \"new immigrants\" during the most greed ridden decade, the over indulgent 80\\'s. DePalma, Stone and the gang present an ambitious, disturbing and darn right good film.<br /><br />Yes....Disco was dying and New Wave/Punk were taking over but these immigrants from Cuba who had to make a new home in Florida couldn\\'t tell the difference. It was exciting, it was what they wanted but how to get it???? To these immigrants, there was only one way to get it in Florida where they were..by having lots of money and to get the money, you had to take over running a drug empire.<br /><br />Al Pacino was fantastic to me as Tony Montana, the \"little train that could\". What an amazing way to have your lead character look at America: to fight, kill, steal. lie, cheat all to get -- \"the money, the women and the power.\"<br /><br />That\\'s what Tony saw as the American dream.<br /><br />He wanted it, he wanted to live it and in his circle saw nothing wrong with how he went to get it. Tony Montana\\'s command of the English language was heavily saturated with the \"f\" word but what did you expect, Emily Post\\'s finishing school for him and his co-horts? Look at how they CAME to America, what they knew, what they were exposed to. This is the way Tony and his crew chose to \"be all they can be in America.\" It was all about the power. Tony Montana would and did ANYTHING to achieve it..it all its violent, lying, stealing, crooked, thieving glory.<br /><br />The part of the film that personified the 1980\\'s to me, is the money laundering. Tony\\'s crew bringing sacks of drug money to the bank. Did those around Tony and his crew care? At the clubs where he spent and drank? Nope. Money was money and with money, you get the power. Tony was living high off the hog. He and his pretty blond American trophy he married played well by Michelle Pfieffer.<br /><br />After Tony Montana\\'s rise to power, he finds out its really crappy up there. He\\'s riddled with doubt, he\\'s drug addicted, he\\'s paranoid, he\\'s surrounded by those who want to take him on in a bloody take-over, his trophy 80\\'s American blonde drug addicted wife he finds out is a bore, he needs to keep atop of his empire because...he\\'s going down. And down he goes in a horrific violent fashion, but again I ask, what do you expect?<br /><br />This is the quintessential 1980\\'s film telling you a warped tale of how some misunderstand the American Dream...to obsession. It\\'s violent, bloody, overly so..but it drives the point disturbingly home. Not all Cubans thrown out of Cuba who landed in Florida in the 80\\'s were anything like Tony Montana. Give me a break. But the showing of how miserable the 1980\\'s were with its emphasis on greed and money as the only measures in the USA to \"be somebody\" and have power took its tool on these poor characters and their lives in America.<br /><br />Makes you wonder -- has anything from then -- been learned today?',\n",
       " 'label': 1,\n",
       " 'tokens': ['ya',\n",
       "  'know',\n",
       "  'when',\n",
       "  'one',\n",
       "  'looks',\n",
       "  'at',\n",
       "  'this',\n",
       "  'brian',\n",
       "  'depalma',\n",
       "  'film',\n",
       "  'today',\n",
       "  ',',\n",
       "  'i',\n",
       "  \"'\",\n",
       "  'm',\n",
       "  'sure',\n",
       "  'there',\n",
       "  'has',\n",
       "  'been',\n",
       "  'allot',\n",
       "  'of',\n",
       "  'criticism',\n",
       "  'about',\n",
       "  'how',\n",
       "  'dated',\n",
       "  'it',\n",
       "  'is',\n",
       "  '.',\n",
       "  'also',\n",
       "  ',',\n",
       "  'about',\n",
       "  'the',\n",
       "  'violence',\n",
       "  '.',\n",
       "  'when',\n",
       "  'i',\n",
       "  'looked',\n",
       "  'at',\n",
       "  'this',\n",
       "  'film',\n",
       "  'on',\n",
       "  'vhs',\n",
       "  'when',\n",
       "  'i',\n",
       "  'was',\n",
       "  '20',\n",
       "  ',',\n",
       "  'i',\n",
       "  'thought',\n",
       "  'it',\n",
       "  'was',\n",
       "  'ulta-violent',\n",
       "  'and',\n",
       "  'gritty',\n",
       "  'as',\n",
       "  'well',\n",
       "  '.',\n",
       "  'but',\n",
       "  'i',\n",
       "  'didn',\n",
       "  \"'\",\n",
       "  't',\n",
       "  'get',\n",
       "  \"'\",\n",
       "  'it',\n",
       "  \"'\",\n",
       "  '.',\n",
       "  'a',\n",
       "  'few',\n",
       "  'decades',\n",
       "  'go',\n",
       "  'by',\n",
       "  'and',\n",
       "  'man',\n",
       "  ',',\n",
       "  'how',\n",
       "  'i',\n",
       "  'know',\n",
       "  'how',\n",
       "  'much',\n",
       "  'i',\n",
       "  'didn',\n",
       "  \"'\",\n",
       "  't',\n",
       "  'get',\n",
       "  'in',\n",
       "  'this',\n",
       "  'film',\n",
       "  '!',\n",
       "  '!',\n",
       "  'this',\n",
       "  'is',\n",
       "  'a',\n",
       "  'remake',\n",
       "  'of',\n",
       "  'an',\n",
       "  'excellent',\n",
       "  'film',\n",
       "  'which',\n",
       "  'was',\n",
       "  'done',\n",
       "  'back',\n",
       "  'in',\n",
       "  'the',\n",
       "  '30',\n",
       "  \"'\",\n",
       "  's/40',\n",
       "  \"'\",\n",
       "  's',\n",
       "  '.',\n",
       "  'how',\n",
       "  'can',\n",
       "  'you',\n",
       "  'improve',\n",
       "  'upon',\n",
       "  'a',\n",
       "  'classic',\n",
       "  '?',\n",
       "  'ya',\n",
       "  'don',\n",
       "  \"'\",\n",
       "  't',\n",
       "  '.',\n",
       "  'but',\n",
       "  'you',\n",
       "  'tell',\n",
       "  'a',\n",
       "  'tale',\n",
       "  'that',\n",
       "  'is',\n",
       "  'brought',\n",
       "  'up',\n",
       "  'to',\n",
       "  'date',\n",
       "  'through',\n",
       "  'the',\n",
       "  'eyes',\n",
       "  'of',\n",
       "  'the',\n",
       "  'new',\n",
       "  'immigrants',\n",
       "  'during',\n",
       "  'the',\n",
       "  'most',\n",
       "  'greed',\n",
       "  'ridden',\n",
       "  'decade',\n",
       "  ',',\n",
       "  'the',\n",
       "  'over',\n",
       "  'indulgent',\n",
       "  '80',\n",
       "  \"'\",\n",
       "  's',\n",
       "  '.',\n",
       "  'depalma',\n",
       "  ',',\n",
       "  'stone',\n",
       "  'and',\n",
       "  'the',\n",
       "  'gang',\n",
       "  'present',\n",
       "  'an',\n",
       "  'ambitious',\n",
       "  ',',\n",
       "  'disturbing',\n",
       "  'and',\n",
       "  'darn',\n",
       "  'right',\n",
       "  'good',\n",
       "  'film',\n",
       "  '.',\n",
       "  'yes',\n",
       "  '.',\n",
       "  '.',\n",
       "  '.',\n",
       "  '.',\n",
       "  'disco',\n",
       "  'was',\n",
       "  'dying',\n",
       "  'and',\n",
       "  'new',\n",
       "  'wave/punk',\n",
       "  'were',\n",
       "  'taking',\n",
       "  'over',\n",
       "  'but',\n",
       "  'these',\n",
       "  'immigrants',\n",
       "  'from',\n",
       "  'cuba',\n",
       "  'who',\n",
       "  'had',\n",
       "  'to',\n",
       "  'make',\n",
       "  'a',\n",
       "  'new',\n",
       "  'home',\n",
       "  'in',\n",
       "  'florida',\n",
       "  'couldn',\n",
       "  \"'\",\n",
       "  't',\n",
       "  'tell',\n",
       "  'the',\n",
       "  'difference',\n",
       "  '.',\n",
       "  'it',\n",
       "  'was',\n",
       "  'exciting',\n",
       "  ',',\n",
       "  'it',\n",
       "  'was',\n",
       "  'what',\n",
       "  'they',\n",
       "  'wanted',\n",
       "  'but',\n",
       "  'how',\n",
       "  'to',\n",
       "  'get',\n",
       "  'it',\n",
       "  '?',\n",
       "  '?',\n",
       "  '?',\n",
       "  '?',\n",
       "  'to',\n",
       "  'these',\n",
       "  'immigrants',\n",
       "  ',',\n",
       "  'there',\n",
       "  'was',\n",
       "  'only',\n",
       "  'one',\n",
       "  'way',\n",
       "  'to',\n",
       "  'get',\n",
       "  'it',\n",
       "  'in',\n",
       "  'florida',\n",
       "  'where',\n",
       "  'they',\n",
       "  'were',\n",
       "  '.',\n",
       "  '.',\n",
       "  'by',\n",
       "  'having',\n",
       "  'lots',\n",
       "  'of',\n",
       "  'money',\n",
       "  'and',\n",
       "  'to',\n",
       "  'get',\n",
       "  'the',\n",
       "  'money',\n",
       "  ',',\n",
       "  'you'],\n",
       " 'ids': [4182,\n",
       "  130,\n",
       "  60,\n",
       "  34,\n",
       "  289,\n",
       "  37,\n",
       "  14,\n",
       "  1484,\n",
       "  8905,\n",
       "  23,\n",
       "  503,\n",
       "  4,\n",
       "  12,\n",
       "  9,\n",
       "  145,\n",
       "  259,\n",
       "  46,\n",
       "  49,\n",
       "  87,\n",
       "  19432,\n",
       "  7,\n",
       "  3213,\n",
       "  47,\n",
       "  91,\n",
       "  2000,\n",
       "  11,\n",
       "  10,\n",
       "  3,\n",
       "  97,\n",
       "  4,\n",
       "  47,\n",
       "  2,\n",
       "  605,\n",
       "  3,\n",
       "  60,\n",
       "  12,\n",
       "  554,\n",
       "  37,\n",
       "  14,\n",
       "  23,\n",
       "  27,\n",
       "  1634,\n",
       "  60,\n",
       "  12,\n",
       "  17,\n",
       "  934,\n",
       "  4,\n",
       "  12,\n",
       "  188,\n",
       "  11,\n",
       "  17,\n",
       "  0,\n",
       "  6,\n",
       "  2358,\n",
       "  19,\n",
       "  81,\n",
       "  3,\n",
       "  22,\n",
       "  12,\n",
       "  163,\n",
       "  9,\n",
       "  28,\n",
       "  88,\n",
       "  9,\n",
       "  11,\n",
       "  9,\n",
       "  3,\n",
       "  5,\n",
       "  174,\n",
       "  2537,\n",
       "  150,\n",
       "  39,\n",
       "  6,\n",
       "  138,\n",
       "  4,\n",
       "  91,\n",
       "  12,\n",
       "  130,\n",
       "  91,\n",
       "  86,\n",
       "  12,\n",
       "  163,\n",
       "  9,\n",
       "  28,\n",
       "  88,\n",
       "  13,\n",
       "  14,\n",
       "  23,\n",
       "  36,\n",
       "  36,\n",
       "  14,\n",
       "  10,\n",
       "  5,\n",
       "  875,\n",
       "  7,\n",
       "  41,\n",
       "  299,\n",
       "  23,\n",
       "  73,\n",
       "  17,\n",
       "  234,\n",
       "  155,\n",
       "  13,\n",
       "  2,\n",
       "  954,\n",
       "  9,\n",
       "  0,\n",
       "  9,\n",
       "  16,\n",
       "  3,\n",
       "  91,\n",
       "  59,\n",
       "  26,\n",
       "  4464,\n",
       "  724,\n",
       "  5,\n",
       "  347,\n",
       "  56,\n",
       "  4182,\n",
       "  89,\n",
       "  9,\n",
       "  28,\n",
       "  3,\n",
       "  22,\n",
       "  26,\n",
       "  382,\n",
       "  5,\n",
       "  739,\n",
       "  15,\n",
       "  10,\n",
       "  775,\n",
       "  70,\n",
       "  8,\n",
       "  1391,\n",
       "  151,\n",
       "  2,\n",
       "  522,\n",
       "  7,\n",
       "  2,\n",
       "  162,\n",
       "  8365,\n",
       "  321,\n",
       "  2,\n",
       "  93,\n",
       "  4904,\n",
       "  7701,\n",
       "  2023,\n",
       "  4,\n",
       "  2,\n",
       "  133,\n",
       "  10048,\n",
       "  1020,\n",
       "  9,\n",
       "  16,\n",
       "  3,\n",
       "  8905,\n",
       "  4,\n",
       "  1588,\n",
       "  6,\n",
       "  2,\n",
       "  1438,\n",
       "  1052,\n",
       "  41,\n",
       "  3580,\n",
       "  4,\n",
       "  1172,\n",
       "  6,\n",
       "  5817,\n",
       "  228,\n",
       "  57,\n",
       "  23,\n",
       "  3,\n",
       "  415,\n",
       "  3,\n",
       "  3,\n",
       "  3,\n",
       "  3,\n",
       "  6837,\n",
       "  17,\n",
       "  1722,\n",
       "  6,\n",
       "  162,\n",
       "  0,\n",
       "  76,\n",
       "  683,\n",
       "  133,\n",
       "  22,\n",
       "  146,\n",
       "  8365,\n",
       "  45,\n",
       "  3540,\n",
       "  42,\n",
       "  74,\n",
       "  8,\n",
       "  108,\n",
       "  5,\n",
       "  162,\n",
       "  341,\n",
       "  13,\n",
       "  3963,\n",
       "  411,\n",
       "  9,\n",
       "  28,\n",
       "  382,\n",
       "  2,\n",
       "  1486,\n",
       "  3,\n",
       "  11,\n",
       "  17,\n",
       "  1116,\n",
       "  4,\n",
       "  11,\n",
       "  17,\n",
       "  54,\n",
       "  40,\n",
       "  472,\n",
       "  22,\n",
       "  91,\n",
       "  8,\n",
       "  88,\n",
       "  11,\n",
       "  56,\n",
       "  56,\n",
       "  56,\n",
       "  56,\n",
       "  8,\n",
       "  146,\n",
       "  8365,\n",
       "  4,\n",
       "  46,\n",
       "  17,\n",
       "  71,\n",
       "  34,\n",
       "  101,\n",
       "  8,\n",
       "  88,\n",
       "  11,\n",
       "  13,\n",
       "  3963,\n",
       "  129,\n",
       "  40,\n",
       "  76,\n",
       "  3,\n",
       "  3,\n",
       "  39,\n",
       "  266,\n",
       "  745,\n",
       "  7,\n",
       "  272,\n",
       "  6,\n",
       "  8,\n",
       "  88,\n",
       "  2,\n",
       "  272,\n",
       "  4,\n",
       "  26]}"
      ]
     },
     "execution_count": 29,
     "metadata": {},
     "output_type": "execute_result"
    }
   ],
   "source": [
    "train_data[0]"
   ]
  },
  {
   "cell_type": "code",
   "execution_count": 30,
   "id": "678d0397",
   "metadata": {},
   "outputs": [],
   "source": [
    "train_data = train_data.with_format(type='torch', columns=['ids', 'label'])\n",
    "valid_data = valid_data.with_format(type='torch', columns=['ids', 'label'])\n",
    "test_data = test_data.with_format(type='torch', columns=['ids', 'label'])"
   ]
  },
  {
   "cell_type": "markdown",
   "id": "00a00726",
   "metadata": {},
   "source": [
    "Same thing as `set_format`, but not in-place."
   ]
  },
  {
   "cell_type": "code",
   "execution_count": 31,
   "id": "be56bf90",
   "metadata": {},
   "outputs": [
    {
     "data": {
      "text/plain": [
       "{'label': tensor(1),\n",
       " 'ids': tensor([ 4182,   130,    60,    34,   289,    37,    14,  1484,  8905,    23,\n",
       "           503,     4,    12,     9,   145,   259,    46,    49,    87, 19432,\n",
       "             7,  3213,    47,    91,  2000,    11,    10,     3,    97,     4,\n",
       "            47,     2,   605,     3,    60,    12,   554,    37,    14,    23,\n",
       "            27,  1634,    60,    12,    17,   934,     4,    12,   188,    11,\n",
       "            17,     0,     6,  2358,    19,    81,     3,    22,    12,   163,\n",
       "             9,    28,    88,     9,    11,     9,     3,     5,   174,  2537,\n",
       "           150,    39,     6,   138,     4,    91,    12,   130,    91,    86,\n",
       "            12,   163,     9,    28,    88,    13,    14,    23,    36,    36,\n",
       "            14,    10,     5,   875,     7,    41,   299,    23,    73,    17,\n",
       "           234,   155,    13,     2,   954,     9,     0,     9,    16,     3,\n",
       "            91,    59,    26,  4464,   724,     5,   347,    56,  4182,    89,\n",
       "             9,    28,     3,    22,    26,   382,     5,   739,    15,    10,\n",
       "           775,    70,     8,  1391,   151,     2,   522,     7,     2,   162,\n",
       "          8365,   321,     2,    93,  4904,  7701,  2023,     4,     2,   133,\n",
       "         10048,  1020,     9,    16,     3,  8905,     4,  1588,     6,     2,\n",
       "          1438,  1052,    41,  3580,     4,  1172,     6,  5817,   228,    57,\n",
       "            23,     3,   415,     3,     3,     3,     3,  6837,    17,  1722,\n",
       "             6,   162,     0,    76,   683,   133,    22,   146,  8365,    45,\n",
       "          3540,    42,    74,     8,   108,     5,   162,   341,    13,  3963,\n",
       "           411,     9,    28,   382,     2,  1486,     3,    11,    17,  1116,\n",
       "             4,    11,    17,    54,    40,   472,    22,    91,     8,    88,\n",
       "            11,    56,    56,    56,    56,     8,   146,  8365,     4,    46,\n",
       "            17,    71,    34,   101,     8,    88,    11,    13,  3963,   129,\n",
       "            40,    76,     3,     3,    39,   266,   745,     7,   272,     6,\n",
       "             8,    88,     2,   272,     4,    26])}"
      ]
     },
     "execution_count": 31,
     "metadata": {},
     "output_type": "execute_result"
    }
   ],
   "source": [
    "train_data[0]"
   ]
  },
  {
   "cell_type": "code",
   "execution_count": 32,
   "id": "d97786a1",
   "metadata": {},
   "outputs": [],
   "source": [
    "def collate(batch, pad_index):\n",
    "    batch_ids = [i['ids'] for i in batch]\n",
    "    batch_ids = nn.utils.rnn.pad_sequence(batch_ids, padding_value=pad_index, batch_first=True)\n",
    "    batch_label = [i['label'] for i in batch]\n",
    "    batch_label = torch.stack(batch_label)\n",
    "    batch = {'ids': batch_ids,\n",
    "             'label': batch_label}\n",
    "    return batch"
   ]
  },
  {
   "cell_type": "code",
   "execution_count": 33,
   "id": "d3098a96",
   "metadata": {},
   "outputs": [],
   "source": [
    "batch_size = 512\n",
    "\n",
    "collate = functools.partial(collate, pad_index=pad_index)\n",
    "\n",
    "train_dataloader = torch.utils.data.DataLoader(train_data, \n",
    "                                               batch_size=batch_size, \n",
    "                                               collate_fn=collate, \n",
    "                                               shuffle=True)\n",
    "\n",
    "valid_dataloader = torch.utils.data.DataLoader(valid_data, batch_size=batch_size, collate_fn=collate)\n",
    "test_dataloader = torch.utils.data.DataLoader(test_data, batch_size=batch_size, collate_fn=collate)"
   ]
  },
  {
   "cell_type": "markdown",
   "id": "d6ba2ac8",
   "metadata": {},
   "source": [
    "Use `output_all_columns=True` to keep non-converted columns."
   ]
  },
  {
   "cell_type": "code",
   "execution_count": 34,
   "id": "081f04a6",
   "metadata": {},
   "outputs": [],
   "source": [
    "class NBoW(nn.Module):\n",
    "    def __init__(self, vocab_size, embedding_dim, output_dim, pad_index):\n",
    "        super().__init__()\n",
    "        self.embedding = nn.Embedding(vocab_size, embedding_dim, padding_idx=pad_index)\n",
    "        self.fc = nn.Linear(embedding_dim, output_dim)\n",
    "\n",
    "    def forward(self, ids):\n",
    "        # ids = [batch size, seq len]\n",
    "        embedded = self.embedding(ids)\n",
    "        # embedded = [batch size, seq len, embedding dim]\n",
    "        pooled = embedded.mean(dim=1)\n",
    "        # pooled = [batch size, embedding dim]\n",
    "        prediction = self.fc(pooled)\n",
    "        # prediction = [batch size, output dim]\n",
    "        return prediction"
   ]
  },
  {
   "cell_type": "code",
   "execution_count": 35,
   "id": "97897898",
   "metadata": {},
   "outputs": [],
   "source": [
    "vocab_size = len(vocab)\n",
    "embedding_dim = 300\n",
    "output_dim = len(train_data.unique('label'))\n",
    "\n",
    "model = NBoW(vocab_size, embedding_dim, output_dim, pad_index)"
   ]
  },
  {
   "cell_type": "code",
   "execution_count": 36,
   "id": "4acc5118",
   "metadata": {},
   "outputs": [
    {
     "name": "stdout",
     "output_type": "stream",
     "text": [
      "The model has 6,488,702 trainable parameters\n"
     ]
    }
   ],
   "source": [
    "def count_parameters(model):\n",
    "    return sum(p.numel() for p in model.parameters() if p.requires_grad)\n",
    "\n",
    "print(f'The model has {count_parameters(model):,} trainable parameters')"
   ]
  },
  {
   "cell_type": "code",
   "execution_count": 37,
   "id": "866e0b64",
   "metadata": {},
   "outputs": [
    {
     "name": "stderr",
     "output_type": "stream",
     "text": [
      ".vector_cache\\wiki.en.vec: 6.60GB [34:02, 3.23MB/s]                                \n",
      "  0%|          | 0/2519370 [00:00<?, ?it/s]Skipping token b'2519370' with 1-dimensional vector [b'300']; likely a header\n",
      "100%|██████████| 2519370/2519370 [27:13<00:00, 1542.60it/s] \n"
     ]
    }
   ],
   "source": [
    "vectors = torchtext.vocab.FastText()"
   ]
  },
  {
   "cell_type": "code",
   "execution_count": 38,
   "id": "ead7be53",
   "metadata": {},
   "outputs": [],
   "source": [
    "hello_vector = vectors.get_vecs_by_tokens('hello')"
   ]
  },
  {
   "cell_type": "code",
   "execution_count": 39,
   "id": "1a64ead7",
   "metadata": {},
   "outputs": [
    {
     "data": {
      "text/plain": [
       "torch.Size([300])"
      ]
     },
     "execution_count": 39,
     "metadata": {},
     "output_type": "execute_result"
    }
   ],
   "source": [
    "hello_vector.shape"
   ]
  },
  {
   "cell_type": "code",
   "execution_count": 40,
   "id": "7ecc5d88",
   "metadata": {},
   "outputs": [
    {
     "data": {
      "text/plain": [
       "tensor([-1.5945e-01, -1.8259e-01,  3.3443e-02,  1.8813e-01, -6.7903e-02,\n",
       "        -1.3663e-01, -2.5559e-01,  1.1000e-01,  1.7275e-01,  5.1971e-02,\n",
       "        -2.3302e-02,  3.8866e-02, -2.4515e-01, -2.1588e-01,  3.5925e-01,\n",
       "        -8.2526e-02,  1.2176e-01, -2.6775e-01,  1.0072e-01, -1.3639e-01,\n",
       "        -9.2658e-02,  5.1837e-01,  1.7736e-01,  9.4878e-02, -1.8461e-01,\n",
       "        -4.2829e-02,  1.4114e-02,  1.6811e-01, -1.8565e-01,  3.4976e-02,\n",
       "        -1.0293e-01,  1.7954e-01, -5.2766e-02,  7.2047e-02, -4.2704e-01,\n",
       "        -1.1616e-01, -9.4875e-03,  1.4199e-01, -2.2782e-01, -1.7292e-02,\n",
       "         8.2802e-02, -4.4512e-01, -7.5935e-02, -1.4392e-01, -8.2461e-02,\n",
       "         2.0123e-01, -9.5344e-02, -1.1042e-01, -4.6817e-01,  2.0362e-01,\n",
       "        -1.7140e-01, -4.9850e-01,  2.8963e-01, -1.0305e-01,  2.0393e-01,\n",
       "         5.2971e-01, -2.5396e-01, -5.1891e-01,  2.9941e-01,  1.7933e-01,\n",
       "         3.0683e-01,  2.5828e-01, -1.8168e-01, -1.0225e-01, -1.1435e-01,\n",
       "        -1.6304e-01, -1.2424e-01,  3.2814e-01, -2.3099e-01,  1.7912e-01,\n",
       "         9.9206e-02,  1.8595e-01,  2.7996e-01,  1.8323e-01, -1.7397e-01,\n",
       "         2.6633e-01, -1.8151e-02,  2.8386e-01,  1.7328e-01,  2.9131e-01,\n",
       "         8.2289e-02,  1.8560e-01, -1.5544e-01,  2.3311e-01,  3.6578e-01,\n",
       "        -3.0802e-01, -1.5908e-01,  4.0382e-01,  1.5332e-01, -1.1630e-01,\n",
       "         1.3978e-01,  6.4237e-02,  2.2087e-01,  8.2723e-02,  1.2785e-01,\n",
       "        -6.6854e-02, -2.3016e-02, -1.9224e-01, -5.4482e-02,  3.7509e-01,\n",
       "         5.1194e-01, -2.3650e-01, -7.1224e-02,  8.1112e-02, -3.2017e-01,\n",
       "         5.0264e-02, -3.3223e-01,  2.2167e-02,  9.9936e-02, -2.7215e-01,\n",
       "        -7.2833e-02, -3.6598e-01,  1.7541e-01, -3.1303e-01, -2.3134e-01,\n",
       "        -1.5491e-01,  3.2102e-01,  1.2347e-01,  7.3616e-02,  2.0575e-01,\n",
       "         6.1732e-01,  7.1909e-02, -3.6930e-01,  4.7641e-01,  1.7456e-01,\n",
       "         3.2928e-01,  2.8792e-01, -7.6989e-02,  2.7030e-01,  6.9828e-01,\n",
       "         4.6247e-01,  4.1444e-01, -5.3405e-01,  4.4302e-01,  1.1631e-01,\n",
       "        -2.3425e-01, -1.5030e-01, -6.8092e-02,  3.3537e-01,  2.8618e-01,\n",
       "        -3.9781e-02,  2.3245e-01,  3.6262e-01, -1.7151e-01, -3.5204e-01,\n",
       "         1.9951e-01,  1.1345e-01, -4.5134e-01, -3.9699e-03, -2.0620e-01,\n",
       "        -4.9251e-02,  1.0825e-01,  1.2571e-01, -2.8134e-01,  1.0355e-01,\n",
       "         7.3498e-02, -2.6716e-01, -1.0001e-01, -2.2600e-01,  3.0784e-01,\n",
       "         2.5934e-01, -1.8112e-03, -2.0522e-01, -2.5115e-01, -1.5368e-01,\n",
       "         5.6060e-02, -6.4802e-02,  9.2786e-03,  2.6150e-01, -9.3972e-02,\n",
       "        -3.1032e-01, -2.6632e-01, -1.9598e-01, -4.5088e-02, -2.7611e-02,\n",
       "        -7.7027e-02,  1.5070e-01,  1.7185e-01, -8.5416e-02, -1.4448e-01,\n",
       "        -2.4800e-03, -3.2881e-01, -1.6913e-01, -1.2778e-01, -2.3352e-01,\n",
       "         1.5178e-01, -6.9358e-01, -3.8922e-01,  3.7190e-01,  2.6020e-01,\n",
       "        -1.0232e-01, -6.0247e-01, -5.4548e-02,  6.6532e-01, -7.3208e-02,\n",
       "        -2.3644e-01, -2.5550e-01,  1.9755e-02, -4.8908e-01, -7.3706e-02,\n",
       "         3.0545e-01,  2.4459e-01,  2.0426e-01, -3.0128e-01,  6.0666e-02,\n",
       "         1.8107e-02, -9.6162e-02, -2.0348e-02, -1.9801e-04,  2.9652e-02,\n",
       "         5.0787e-01, -2.0225e-01, -6.1565e-02, -2.7330e-01, -3.7789e-01,\n",
       "        -2.4373e-01,  9.4902e-02, -3.7236e-01, -8.5854e-02,  2.4096e-01,\n",
       "        -1.7998e-01,  7.3902e-02, -7.8217e-04, -1.8559e-01, -2.6445e-01,\n",
       "        -2.3306e-02, -1.8644e-01, -1.0638e-01,  8.9330e-02,  4.1039e-01,\n",
       "         1.0452e-02, -9.8721e-03, -1.8335e-01, -2.8524e-01, -1.4771e-01,\n",
       "        -1.9499e-01, -1.0175e-01,  1.2292e-01,  8.3651e-02, -2.1228e-01,\n",
       "         3.4773e-02,  6.1831e-02,  2.9237e-01,  1.4371e-01, -9.2354e-02,\n",
       "         8.1267e-03,  2.7648e-01,  2.1753e-01,  2.6609e-01, -3.6083e-01,\n",
       "         2.8347e-01, -2.9295e-01, -2.6441e-01,  2.1056e-01,  3.2068e-01,\n",
       "        -1.6156e-01,  1.5298e-01, -1.5577e-01,  2.2035e-01, -1.1888e-01,\n",
       "         1.3766e-01, -9.9048e-02,  4.1584e-01, -3.6029e-02, -6.2504e-02,\n",
       "         3.3177e-01, -1.3997e-01,  8.7884e-02, -2.1428e-01, -6.2643e-01,\n",
       "        -3.1293e-01, -3.4895e-01,  5.2294e-01, -1.2635e-01, -1.9371e-01,\n",
       "        -2.0631e-01,  5.3758e-01, -1.1522e-01, -2.3659e-01,  2.0457e-01,\n",
       "         1.9534e-01,  3.3260e-01, -2.2254e-01,  8.1346e-02, -7.2798e-02,\n",
       "        -8.6357e-04, -1.0199e-01,  3.1601e-01,  2.0040e-01,  1.9014e-01,\n",
       "        -9.6766e-02,  2.5155e-01, -2.0484e-01, -4.5859e-01,  1.1687e-01,\n",
       "        -3.3574e-01, -3.3371e-01,  8.6787e-02,  2.4920e-01,  6.5367e-02])"
      ]
     },
     "execution_count": 40,
     "metadata": {},
     "output_type": "execute_result"
    }
   ],
   "source": [
    "hello_vector"
   ]
  },
  {
   "cell_type": "code",
   "execution_count": 41,
   "id": "e8540b4b",
   "metadata": {},
   "outputs": [],
   "source": [
    "pretrained_embedding = vectors.get_vecs_by_tokens(vocab.get_itos())"
   ]
  },
  {
   "cell_type": "code",
   "execution_count": 42,
   "id": "9d31228e",
   "metadata": {},
   "outputs": [
    {
     "data": {
      "text/plain": [
       "torch.Size([21627, 300])"
      ]
     },
     "execution_count": 42,
     "metadata": {},
     "output_type": "execute_result"
    }
   ],
   "source": [
    "pretrained_embedding.shape"
   ]
  },
  {
   "cell_type": "code",
   "execution_count": 43,
   "id": "3a6f4173",
   "metadata": {},
   "outputs": [
    {
     "data": {
      "text/plain": [
       "Parameter containing:\n",
       "tensor([[-1.1258, -1.1524, -0.2506,  ...,  0.8200, -0.6332,  1.2948],\n",
       "        [ 0.0000,  0.0000,  0.0000,  ...,  0.0000,  0.0000,  0.0000],\n",
       "        [ 0.1483,  2.4187,  1.3279,  ..., -1.0328,  1.1305, -0.5703],\n",
       "        ...,\n",
       "        [-0.0043,  0.4097, -0.2973,  ...,  0.6319,  0.0847, -1.1920],\n",
       "        [ 0.2745, -0.1768,  1.1788,  ...,  1.3290, -0.7914, -0.1686],\n",
       "        [ 0.2854,  0.2572,  1.1334,  ..., -2.3543,  0.1198,  0.0115]],\n",
       "       requires_grad=True)"
      ]
     },
     "execution_count": 43,
     "metadata": {},
     "output_type": "execute_result"
    }
   ],
   "source": [
    "model.embedding.weight"
   ]
  },
  {
   "cell_type": "code",
   "execution_count": 44,
   "id": "5c1cbd5c",
   "metadata": {},
   "outputs": [
    {
     "data": {
      "text/plain": [
       "tensor([[ 0.0000,  0.0000,  0.0000,  ...,  0.0000,  0.0000,  0.0000],\n",
       "        [ 0.0000,  0.0000,  0.0000,  ...,  0.0000,  0.0000,  0.0000],\n",
       "        [-0.0653, -0.0930, -0.0176,  ...,  0.1664, -0.1308,  0.0354],\n",
       "        ...,\n",
       "        [-0.1280, -0.2391, -0.3717,  ..., -0.2025, -0.1138,  0.2572],\n",
       "        [-0.2301, -0.1799, -0.2485,  ...,  0.5203,  0.6245,  0.1723],\n",
       "        [-0.1864,  0.1123, -0.0476,  ..., -0.1827,  0.1741,  0.1033]])"
      ]
     },
     "execution_count": 44,
     "metadata": {},
     "output_type": "execute_result"
    }
   ],
   "source": [
    "pretrained_embedding"
   ]
  },
  {
   "cell_type": "code",
   "execution_count": 45,
   "id": "6ea34c9b",
   "metadata": {},
   "outputs": [],
   "source": [
    "model.embedding.weight.data = pretrained_embedding"
   ]
  },
  {
   "cell_type": "code",
   "execution_count": 46,
   "id": "1332d9a6",
   "metadata": {},
   "outputs": [
    {
     "data": {
      "text/plain": [
       "Parameter containing:\n",
       "tensor([[ 0.0000,  0.0000,  0.0000,  ...,  0.0000,  0.0000,  0.0000],\n",
       "        [ 0.0000,  0.0000,  0.0000,  ...,  0.0000,  0.0000,  0.0000],\n",
       "        [-0.0653, -0.0930, -0.0176,  ...,  0.1664, -0.1308,  0.0354],\n",
       "        ...,\n",
       "        [-0.1280, -0.2391, -0.3717,  ..., -0.2025, -0.1138,  0.2572],\n",
       "        [-0.2301, -0.1799, -0.2485,  ...,  0.5203,  0.6245,  0.1723],\n",
       "        [-0.1864,  0.1123, -0.0476,  ..., -0.1827,  0.1741,  0.1033]],\n",
       "       requires_grad=True)"
      ]
     },
     "execution_count": 46,
     "metadata": {},
     "output_type": "execute_result"
    }
   ],
   "source": [
    "model.embedding.weight"
   ]
  },
  {
   "cell_type": "code",
   "execution_count": 47,
   "id": "4fcb95e0",
   "metadata": {},
   "outputs": [],
   "source": [
    "optimizer = optim.Adam(model.parameters())"
   ]
  },
  {
   "cell_type": "code",
   "execution_count": 48,
   "id": "f8829cd4",
   "metadata": {},
   "outputs": [],
   "source": [
    "criterion = nn.CrossEntropyLoss()"
   ]
  },
  {
   "cell_type": "code",
   "execution_count": 49,
   "id": "7ed273e0",
   "metadata": {},
   "outputs": [
    {
     "data": {
      "text/plain": [
       "device(type='cpu')"
      ]
     },
     "execution_count": 49,
     "metadata": {},
     "output_type": "execute_result"
    }
   ],
   "source": [
    "device = torch.device('cuda' if torch.cuda.is_available() else 'cpu')\n",
    "\n",
    "device"
   ]
  },
  {
   "cell_type": "code",
   "execution_count": 50,
   "id": "3cdaf3b3",
   "metadata": {},
   "outputs": [],
   "source": [
    "model = model.to(device)\n",
    "criterion = criterion.to(device)"
   ]
  },
  {
   "cell_type": "code",
   "execution_count": 51,
   "id": "729aa9c8",
   "metadata": {},
   "outputs": [],
   "source": [
    "def train(dataloader, model, criterion, optimizer, device):\n",
    "\n",
    "    model.train()\n",
    "    epoch_losses = []\n",
    "    epoch_accs = []\n",
    "\n",
    "    for batch in tqdm.tqdm(dataloader, desc='training...', file=sys.stdout):\n",
    "        ids = batch['ids'].to(device)\n",
    "        label = batch['label'].to(device)\n",
    "        prediction = model(ids)\n",
    "        loss = criterion(prediction, label)\n",
    "        accuracy = get_accuracy(prediction, label)\n",
    "        optimizer.zero_grad()\n",
    "        loss.backward()\n",
    "        optimizer.step()\n",
    "        epoch_losses.append(loss.item())\n",
    "        epoch_accs.append(accuracy.item())\n",
    "\n",
    "    return epoch_losses, epoch_accs"
   ]
  },
  {
   "cell_type": "code",
   "execution_count": 52,
   "id": "e0a80c30",
   "metadata": {},
   "outputs": [],
   "source": [
    "def evaluate(dataloader, model, criterion, device):\n",
    "    \n",
    "    model.eval()\n",
    "    epoch_losses = []\n",
    "    epoch_accs = []\n",
    "\n",
    "    with torch.no_grad():\n",
    "        for batch in tqdm.tqdm(dataloader, desc='evaluating...', file=sys.stdout):\n",
    "            ids = batch['ids'].to(device)\n",
    "            label = batch['label'].to(device)\n",
    "            prediction = model(ids)\n",
    "            loss = criterion(prediction, label)\n",
    "            accuracy = get_accuracy(prediction, label)\n",
    "            epoch_losses.append(loss.item())\n",
    "            epoch_accs.append(accuracy.item())\n",
    "\n",
    "    return epoch_losses, epoch_accs"
   ]
  },
  {
   "cell_type": "code",
   "execution_count": 53,
   "id": "703aa1e1",
   "metadata": {},
   "outputs": [],
   "source": [
    "def get_accuracy(prediction, label):\n",
    "    batch_size, _ = prediction.shape\n",
    "    predicted_classes = prediction.argmax(dim=-1)\n",
    "    correct_predictions = predicted_classes.eq(label).sum()\n",
    "    accuracy = correct_predictions / batch_size\n",
    "    return accuracy"
   ]
  },
  {
   "cell_type": "code",
   "execution_count": 54,
   "id": "31343f1b",
   "metadata": {},
   "outputs": [
    {
     "name": "stdout",
     "output_type": "stream",
     "text": [
      "training...: 100%|██████████| 37/37 [00:20<00:00,  1.80it/s]\n",
      "evaluating...: 100%|██████████| 13/13 [00:05<00:00,  2.17it/s]\n",
      "epoch: 1\n",
      "train_loss: 0.684, train_acc: 0.563\n",
      "valid_loss: 0.672, valid_acc: 0.652\n",
      "training...: 100%|██████████| 37/37 [00:25<00:00,  1.44it/s]\n",
      "evaluating...: 100%|██████████| 13/13 [00:05<00:00,  2.33it/s]\n",
      "epoch: 2\n",
      "train_loss: 0.651, train_acc: 0.710\n",
      "valid_loss: 0.631, valid_acc: 0.717\n",
      "training...: 100%|██████████| 37/37 [00:26<00:00,  1.41it/s]\n",
      "evaluating...: 100%|██████████| 13/13 [00:05<00:00,  2.36it/s]\n",
      "epoch: 3\n",
      "train_loss: 0.595, train_acc: 0.760\n",
      "valid_loss: 0.570, valid_acc: 0.765\n",
      "training...: 100%|██████████| 37/37 [00:23<00:00,  1.57it/s]\n",
      "evaluating...: 100%|██████████| 13/13 [00:03<00:00,  3.75it/s]\n",
      "epoch: 4\n",
      "train_loss: 0.524, train_acc: 0.803\n",
      "valid_loss: 0.503, valid_acc: 0.809\n",
      "training...: 100%|██████████| 37/37 [00:23<00:00,  1.56it/s]\n",
      "evaluating...: 100%|██████████| 13/13 [00:05<00:00,  2.37it/s]\n",
      "epoch: 5\n",
      "train_loss: 0.453, train_acc: 0.843\n",
      "valid_loss: 0.445, valid_acc: 0.840\n",
      "training...: 100%|██████████| 37/37 [00:22<00:00,  1.65it/s]\n",
      "evaluating...: 100%|██████████| 13/13 [00:05<00:00,  2.48it/s]\n",
      "epoch: 6\n",
      "train_loss: 0.395, train_acc: 0.869\n",
      "valid_loss: 0.403, valid_acc: 0.856\n",
      "training...: 100%|██████████| 37/37 [00:23<00:00,  1.54it/s]\n",
      "evaluating...: 100%|██████████| 13/13 [00:05<00:00,  2.42it/s]\n",
      "epoch: 7\n",
      "train_loss: 0.350, train_acc: 0.884\n",
      "valid_loss: 0.372, valid_acc: 0.864\n",
      "training...: 100%|██████████| 37/37 [00:22<00:00,  1.62it/s]\n",
      "evaluating...: 100%|██████████| 13/13 [00:05<00:00,  2.32it/s]\n",
      "epoch: 8\n",
      "train_loss: 0.315, train_acc: 0.896\n",
      "valid_loss: 0.351, valid_acc: 0.869\n",
      "training...: 100%|██████████| 37/37 [00:25<00:00,  1.43it/s]\n",
      "evaluating...: 100%|██████████| 13/13 [00:05<00:00,  2.35it/s]\n",
      "epoch: 9\n",
      "train_loss: 0.287, train_acc: 0.906\n",
      "valid_loss: 0.335, valid_acc: 0.875\n",
      "training...: 100%|██████████| 37/37 [00:25<00:00,  1.44it/s]\n",
      "evaluating...: 100%|██████████| 13/13 [00:05<00:00,  2.27it/s]\n",
      "epoch: 10\n",
      "train_loss: 0.263, train_acc: 0.914\n",
      "valid_loss: 0.322, valid_acc: 0.878\n"
     ]
    }
   ],
   "source": [
    "n_epochs = 10\n",
    "best_valid_loss = float('inf')\n",
    "\n",
    "train_losses = []\n",
    "train_accs = []\n",
    "valid_losses = []\n",
    "valid_accs = []\n",
    "\n",
    "for epoch in range(n_epochs):\n",
    "\n",
    "    train_loss, train_acc = train(train_dataloader, model, criterion, optimizer, device)\n",
    "    valid_loss, valid_acc = evaluate(valid_dataloader, model, criterion, device)\n",
    "\n",
    "    train_losses.extend(train_loss)\n",
    "    train_accs.extend(train_acc)\n",
    "    valid_losses.extend(valid_loss)\n",
    "    valid_accs.extend(valid_acc)\n",
    "    \n",
    "    epoch_train_loss = np.mean(train_loss)\n",
    "    epoch_train_acc = np.mean(train_acc)\n",
    "    epoch_valid_loss = np.mean(valid_loss)\n",
    "    epoch_valid_acc = np.mean(valid_acc)\n",
    "    \n",
    "    if epoch_valid_loss < best_valid_loss:\n",
    "        best_valid_loss = epoch_valid_loss\n",
    "        torch.save(model.state_dict(), 'nbow.pt')\n",
    "    \n",
    "    print(f'epoch: {epoch+1}')\n",
    "    print(f'train_loss: {epoch_train_loss:.3f}, train_acc: {epoch_train_acc:.3f}')\n",
    "    print(f'valid_loss: {epoch_valid_loss:.3f}, valid_acc: {epoch_valid_acc:.3f}')"
   ]
  },
  {
   "cell_type": "code",
   "execution_count": 55,
   "id": "2d791c70",
   "metadata": {},
   "outputs": [
    {
     "data": {
      "image/png": "[encoded data removed]",
      "text/plain": [
       "<Figure size 720x432 with 1 Axes>"
      ]
     },
     "metadata": {
      "needs_background": "light"
     },
     "output_type": "display_data"
    }
   ],
   "source": [
    "fig = plt.figure(figsize=(10,6))\n",
    "ax = fig.add_subplot(1,1,1)\n",
    "ax.plot(train_losses, label='train loss')\n",
    "ax.plot(valid_losses, label='valid loss')\n",
    "plt.legend()\n",
    "ax.set_xlabel('updates')\n",
    "ax.set_ylabel('loss');"
   ]
  },
  {
   "cell_type": "code",
   "execution_count": 56,
   "id": "bc422190",
   "metadata": {},
   "outputs": [
    {
     "data": {
      "image/png": "[encoded data removed]",
      "text/plain": [
       "<Figure size 720x432 with 1 Axes>"
      ]
     },
     "metadata": {
      "needs_background": "light"
     },
     "output_type": "display_data"
    }
   ],
   "source": [
    "fig = plt.figure(figsize=(10,6))\n",
    "ax = fig.add_subplot(1,1,1)\n",
    "ax.plot(train_accs, label='train accuracy')\n",
    "ax.plot(valid_accs, label='valid accuracy')\n",
    "plt.legend()\n",
    "ax.set_xlabel('updates')\n",
    "ax.set_ylabel('accuracy');"
   ]
  },
  {
   "cell_type": "code",
   "execution_count": 57,
   "id": "cac26e8e",
   "metadata": {},
   "outputs": [
    {
     "name": "stdout",
     "output_type": "stream",
     "text": [
      "evaluating...: 100%|██████████| 49/49 [00:20<00:00,  2.37it/s]\n",
      "test_loss: 0.354, test_acc: 0.857\n"
     ]
    }
   ],
   "source": [
    "model.load_state_dict(torch.load('nbow.pt'))\n",
    "\n",
    "test_loss, test_acc = evaluate(test_dataloader, model, criterion, device)\n",
    "\n",
    "epoch_test_loss = np.mean(test_loss)\n",
    "epoch_test_acc = np.mean(test_acc)\n",
    "\n",
    "print(f'test_loss: {epoch_test_loss:.3f}, test_acc: {epoch_test_acc:.3f}')"
   ]
  },
  {
   "cell_type": "code",
   "execution_count": 58,
   "id": "b22e040a",
   "metadata": {},
   "outputs": [],
   "source": [
    "def predict_sentiment(text, model, tokenizer, vocab, device):\n",
    "    tokens = tokenizer(text)\n",
    "    ids = [vocab[t] for t in tokens]\n",
    "    tensor = torch.LongTensor(ids).unsqueeze(dim=0).to(device)\n",
    "    prediction = model(tensor).squeeze(dim=0)\n",
    "    probability = torch.softmax(prediction, dim=-1)\n",
    "    predicted_class = prediction.argmax(dim=-1).item()\n",
    "    predicted_probability = probability[predicted_class].item()\n",
    "    return predicted_class, predicted_probability"
   ]
  },
  {
   "cell_type": "code",
   "execution_count": 59,
   "id": "9cfa14eb",
   "metadata": {},
   "outputs": [
    {
     "data": {
      "text/plain": [
       "(0, 0.9999581575393677)"
      ]
     },
     "execution_count": 59,
     "metadata": {},
     "output_type": "execute_result"
    }
   ],
   "source": [
    "text = \"This film is terrible!\"\n",
    "\n",
    "predict_sentiment(text, model, tokenizer, vocab, device)"
   ]
  },
  {
   "cell_type": "code",
   "execution_count": 60,
   "id": "1da60d90",
   "metadata": {},
   "outputs": [
    {
     "data": {
      "text/plain": [
       "(1, 0.9999995231628418)"
      ]
     },
     "execution_count": 60,
     "metadata": {},
     "output_type": "execute_result"
    }
   ],
   "source": [
    "text = \"This film is great!\"\n",
    "\n",
    "predict_sentiment(text, model, tokenizer, vocab, device)"
   ]
  },
  {
   "cell_type": "code",
   "execution_count": 61,
   "id": "4bee6190",
   "metadata": {},
   "outputs": [
    {
     "data": {
      "text/plain": [
       "(1, 0.8187904357910156)"
      ]
     },
     "execution_count": 61,
     "metadata": {},
     "output_type": "execute_result"
    }
   ],
   "source": [
    "text = \"This film is not terrible, it's great!\"\n",
    "\n",
    "predict_sentiment(text, model, tokenizer, vocab, device)"
   ]
  },
  {
   "cell_type": "code",
   "execution_count": 62,
   "id": "e3d55c92",
   "metadata": {},
   "outputs": [
    {
     "data": {
      "text/plain": [
       "(1, 0.8187904953956604)"
      ]
     },
     "execution_count": 62,
     "metadata": {},
     "output_type": "execute_result"
    }
   ],
   "source": [
    "text = \"This film is not great, it's terrible!\"\n",
    "\n",
    "predict_sentiment(text, model, tokenizer, vocab, device)"
   ]
  }
 ],
 "metadata": {
  "kernelspec": {
   "display_name": "Python 3",
   "language": "python",
   "name": "python3"
  },
  "language_info": {
   "codemirror_mode": {
    "name": "ipython",
    "version": 3
   },
   "file_extension": ".py",
   "mimetype": "text/x-python",
   "name": "python",
   "nbconvert_exporter": "python",
   "pygments_lexer": "ipython3",
   "version": "3.8.8"
  }
 },
 "nbformat": 4,
 "nbformat_minor": 5
}
